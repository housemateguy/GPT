{
  "nbformat": 4,
  "nbformat_minor": 0,
  "metadata": {
    "colab": {
      "name": "GPT Language Model Demo.ipynb",
      "provenance": [],
      "collapsed_sections": []
    },
    "kernelspec": {
      "name": "python3",
      "display_name": "Python 3"
    },
    "accelerator": "GPU"
  },
  "cells": [
    {
      "cell_type": "code",
      "metadata": {
        "id": "RSO7x7TmmpN4",
        "outputId": "b472ba92-df82-449c-a503-1afff9905391",
        "colab": {
          "base_uri": "https://localhost:8080/"
        }
      },
      "source": [
        "!nvidia-smi"
      ],
      "execution_count": 1,
      "outputs": [
        {
          "output_type": "stream",
          "text": [
            "Thu Nov  5 18:17:09 2020       \n",
            "+-----------------------------------------------------------------------------+\n",
            "| NVIDIA-SMI 455.32.00    Driver Version: 418.67       CUDA Version: 10.1     |\n",
            "|-------------------------------+----------------------+----------------------+\n",
            "| GPU  Name        Persistence-M| Bus-Id        Disp.A | Volatile Uncorr. ECC |\n",
            "| Fan  Temp  Perf  Pwr:Usage/Cap|         Memory-Usage | GPU-Util  Compute M. |\n",
            "|                               |                      |               MIG M. |\n",
            "|===============================+======================+======================|\n",
            "|   0  Tesla T4            Off  | 00000000:00:04.0 Off |                    0 |\n",
            "| N/A   61C    P8    10W /  70W |      0MiB / 15079MiB |      0%      Default |\n",
            "|                               |                      |                 ERR! |\n",
            "+-------------------------------+----------------------+----------------------+\n",
            "                                                                               \n",
            "+-----------------------------------------------------------------------------+\n",
            "| Processes:                                                                  |\n",
            "|  GPU   GI   CI        PID   Type   Process name                  GPU Memory |\n",
            "|        ID   ID                                                   Usage      |\n",
            "|=============================================================================|\n",
            "|  No running processes found                                                 |\n",
            "+-----------------------------------------------------------------------------+\n"
          ],
          "name": "stdout"
        }
      ]
    },
    {
      "cell_type": "code",
      "metadata": {
        "id": "vT-Ac6DdmeZa",
        "outputId": "465b77ba-914d-45c7-e6ca-b2a6ee1d0e62",
        "colab": {
          "base_uri": "https://localhost:8080/"
        }
      },
      "source": [
        "!pip install -qq wandb\n",
        "!git clone https://github.com/lattice-ai/GPT\n",
        "%cd GPT"
      ],
      "execution_count": 2,
      "outputs": [
        {
          "output_type": "stream",
          "text": [
            "\u001b[K     |████████████████████████████████| 1.8MB 7.9MB/s \n",
            "\u001b[K     |████████████████████████████████| 163kB 49.7MB/s \n",
            "\u001b[K     |████████████████████████████████| 102kB 15.1MB/s \n",
            "\u001b[K     |████████████████████████████████| 102kB 15.1MB/s \n",
            "\u001b[K     |████████████████████████████████| 133kB 51.3MB/s \n",
            "\u001b[K     |████████████████████████████████| 71kB 12.1MB/s \n",
            "\u001b[?25h  Building wheel for watchdog (setup.py) ... \u001b[?25l\u001b[?25hdone\n",
            "  Building wheel for subprocess32 (setup.py) ... \u001b[?25l\u001b[?25hdone\n",
            "  Building wheel for pathtools (setup.py) ... \u001b[?25l\u001b[?25hdone\n",
            "Cloning into 'GPT'...\n",
            "remote: Enumerating objects: 220, done.\u001b[K\n",
            "remote: Counting objects: 100% (220/220), done.\u001b[K\n",
            "remote: Compressing objects: 100% (159/159), done.\u001b[K\n",
            "remote: Total 220 (delta 95), reused 180 (delta 55), pack-reused 0\u001b[K\n",
            "Receiving objects: 100% (220/220), 127.84 KiB | 18.26 MiB/s, done.\n",
            "Resolving deltas: 100% (95/95), done.\n",
            "/content/GPT\n"
          ],
          "name": "stdout"
        }
      ]
    },
    {
      "cell_type": "code",
      "metadata": {
        "id": "BU8AkAKXmvPd"
      },
      "source": [
        "from gpt.experiments.language_model import IMDBReviewLanguageExperiment\n",
        "\n",
        "experiment = IMDBReviewLanguageExperiment()"
      ],
      "execution_count": 3,
      "outputs": []
    },
    {
      "cell_type": "code",
      "metadata": {
        "id": "2OlyPwD3iLJb",
        "outputId": "e6de3c6a-1e55-43f6-8233-844883bb4fa4",
        "colab": {
          "base_uri": "https://localhost:8080/",
          "height": 136
        }
      },
      "source": [
        "from gpt.experiments.utils import init_wandb\n",
        "\n",
        "init_wandb(\n",
        "    project_name='gpt', experiment_name='imdb_language_model',\n",
        "    wandb_api_key='41442f74323655b7ec081f4af030fa821f294c72'\n",
        ")"
      ],
      "execution_count": 4,
      "outputs": [
        {
          "output_type": "stream",
          "text": [
            "\u001b[34m\u001b[1mwandb\u001b[0m: Currently logged in as: \u001b[33mlattice-ai\u001b[0m (use `wandb login --relogin` to force relogin)\n"
          ],
          "name": "stderr"
        },
        {
          "output_type": "display_data",
          "data": {
            "text/html": [
              "\n",
              "                Tracking run with wandb version 0.10.9<br/>\n",
              "                Syncing run <strong style=\"color:#cdcd00\">imdb_language_model</strong> to <a href=\"https://wandb.ai\" target=\"_blank\">Weights & Biases</a> <a href=\"https://docs.wandb.com/integrations/jupyter.html\" target=\"_blank\">(Documentation)</a>.<br/>\n",
              "                Project page: <a href=\"https://wandb.ai/lattice-ai/gpt\" target=\"_blank\">https://wandb.ai/lattice-ai/gpt</a><br/>\n",
              "                Run page: <a href=\"https://wandb.ai/lattice-ai/gpt/runs/rwkad0fw\" target=\"_blank\">https://wandb.ai/lattice-ai/gpt/runs/rwkad0fw</a><br/>\n",
              "                Run data is saved locally in <code>wandb/run-20201105_182056-rwkad0fw</code><br/><br/>\n",
              "            "
            ],
            "text/plain": [
              "<IPython.core.display.HTML object>"
            ]
          },
          "metadata": {
            "tags": []
          }
        }
      ]
    },
    {
      "cell_type": "code",
      "metadata": {
        "id": "8htcxsbOm1XO",
        "outputId": "497d2b63-854d-401a-a607-ba34f6ff2f8c",
        "colab": {
          "base_uri": "https://localhost:8080/"
        }
      },
      "source": [
        "experiment.build_dataset(\n",
        "    'https://ai.stanford.edu/~amaas/data/sentiment/aclImdb_v1.tar.gz')\n",
        "\n",
        "experiment.compile()"
      ],
      "execution_count": 5,
      "outputs": [
        {
          "output_type": "stream",
          "text": [
            "Downloading data from https://ai.stanford.edu/~amaas/data/sentiment/aclImdb_v1.tar.gz\n",
            "84131840/84125825 [==============================] - 13s 0us/step\n",
            "Dataset Size: 50000 files\n",
            "Dataset: <PrefetchDataset shapes: ((None, 100), (None, 100)), types: (tf.int64, tf.int64)>\n",
            "Model: \"GPT_depth_1\"\n",
            "_________________________________________________________________\n",
            "Layer (type)                 Output Shape              Param #   \n",
            "=================================================================\n",
            "GPT_Input (InputLayer)       [(None, 100)]             0         \n",
            "_________________________________________________________________\n",
            "combined_encoding (CombinedE (None, 100, 256)          5145600   \n",
            "_________________________________________________________________\n",
            "transformer_block (Transform (None, 100, 256)          395776    \n",
            "_________________________________________________________________\n",
            "GPT_Output (Dense)           (None, 100, 20000)        5140000   \n",
            "=================================================================\n",
            "Total params: 10,681,376\n",
            "Trainable params: 10,681,376\n",
            "Non-trainable params: 0\n",
            "_________________________________________________________________\n"
          ],
          "name": "stdout"
        }
      ]
    },
    {
      "cell_type": "code",
      "metadata": {
        "id": "EWo7l9uam4cq",
        "outputId": "e8d16d05-d36a-4e57-dde0-563585a0dc37",
        "colab": {
          "base_uri": "https://localhost:8080/"
        }
      },
      "source": [
        "start_text = 'the actor was'\n",
        "start_tokens = experiment.tokenize(start_text=start_text)\n",
        "experiment.train(\n",
        "    epochs=30, start_tokens=start_tokens,\n",
        "    max_length=100, max_tokens=40, top_k=10,\n",
        "    infer_every=1, log_on_wandb=True\n",
        ")"
      ],
      "execution_count": 6,
      "outputs": [
        {
          "output_type": "stream",
          "text": [
            "Epoch 1/30\n",
            "   1563/Unknown - 149s 96ms/step - loss: 5.0529 - GPT_Output_loss: 5.0529\n",
            "Sample Generate Text: the actor was , was in one of the worst movies ever made by all the time , but it was one of all time . my favorite episodes i have to read the book by one of the most of the series of , was in one of the worst movies ever made by all the time , but it was one of all time . my favorite episodes i have to read the book by one of the most of the series of\n",
            "\n",
            "Epoch 00001: saving model to wandb/run-20201105_182056-rwkad0fw/files/gpt_language_model_checkpoint1\n",
            "1563/1563 [==============================] - 152s 97ms/step - loss: 5.0529 - GPT_Output_loss: 5.0529\n",
            "Epoch 2/30\n",
            "1563/1563 [==============================] - ETA: 0s - loss: 4.4802 - GPT_Output_loss: 4.4802\n",
            "Sample Generate Text: the actor was an excellent film , in [UNK] , an actress who is a good actress . she is great and the acting is great . she also is good , but she is a lot better than that ! ! ! ! an excellent film , in [UNK] , an actress who is a good actress . she is great and the acting is great . she also is good , but she is a lot better than that ! ! ! !\n",
            "\n",
            "Epoch 00002: saving model to wandb/run-20201105_182056-rwkad0fw/files/gpt_language_model_checkpoint2\n",
            "1563/1563 [==============================] - 149s 96ms/step - loss: 4.4802 - GPT_Output_loss: 4.4802\n",
            "Epoch 3/30\n",
            "1563/1563 [==============================] - ETA: 0s - loss: 4.2825 - GPT_Output_loss: 4.2825\n",
            "Sample Generate Text: the actor was a very talented actor , i think he would have liked that this movie , but i can 't believe i could see it for . the first part of this movie is an entertaining movie . i was really surprised a very talented actor , i think he would have liked that this movie , but i can 't believe i could see it for . the first part of this movie is an entertaining movie . i was really surprised\n",
            "\n",
            "Epoch 00003: saving model to wandb/run-20201105_182056-rwkad0fw/files/gpt_language_model_checkpoint3\n",
            "1563/1563 [==============================] - 150s 96ms/step - loss: 4.2825 - GPT_Output_loss: 4.2825\n",
            "Epoch 4/30\n",
            "1563/1563 [==============================] - ETA: 0s - loss: 4.1491 - GPT_Output_loss: 4.1491\n",
            "Sample Generate Text: the actor was a good actor , but it was a little too long to make a [UNK] for a very convincing movie . in one way . . . . . . the film is very convincing . . . . . . a good actor , but it was a little too long to make a [UNK] for a very convincing movie . in one way . . . . . . the film is very convincing . . . . . .\n",
            "\n",
            "Epoch 00004: saving model to wandb/run-20201105_182056-rwkad0fw/files/gpt_language_model_checkpoint4\n",
            "1563/1563 [==============================] - 149s 95ms/step - loss: 4.1491 - GPT_Output_loss: 4.1491\n",
            "Epoch 5/30\n",
            "1563/1563 [==============================] - ETA: 0s - loss: 4.0466 - GPT_Output_loss: 4.0466\n",
            "Sample Generate Text: the actor was excellent , and this movie is so bad . i was really disappointed and it 's hard to believe how this movie was done . it 's very well . the plot could have been done . the director is so excellent , and this movie is so bad . i was really disappointed and it 's hard to believe how this movie was done . it 's very well . the plot could have been done . the director is so\n",
            "\n",
            "Epoch 00005: saving model to wandb/run-20201105_182056-rwkad0fw/files/gpt_language_model_checkpoint5\n",
            "1563/1563 [==============================] - 150s 96ms/step - loss: 4.0466 - GPT_Output_loss: 4.0466\n",
            "Epoch 6/30\n",
            "1563/1563 [==============================] - ETA: 0s - loss: 3.9631 - GPT_Output_loss: 3.9631\n",
            "Sample Generate Text: the actor was a pretty poor movie . the story of a man in the movie . it starts off with a [UNK] [UNK] [UNK] and then [UNK] [UNK] . \" [UNK] the [UNK] \" of [UNK] . this movie is not just as a pretty poor movie . the story of a man in the movie . it starts off with a [UNK] [UNK] [UNK] and then [UNK] [UNK] . \" [UNK] the [UNK] \" of [UNK] . this movie is not just as\n",
            "\n",
            "Epoch 00006: saving model to wandb/run-20201105_182056-rwkad0fw/files/gpt_language_model_checkpoint6\n",
            "1563/1563 [==============================] - 150s 96ms/step - loss: 3.9631 - GPT_Output_loss: 3.9631\n",
            "Epoch 7/30\n",
            "1563/1563 [==============================] - ETA: 0s - loss: 3.8925 - GPT_Output_loss: 3.8925\n",
            "Sample Generate Text: the actor was good to see this movie . the story was about two of them . the story was good , a great idea and good acting , and a lot more of a more entertaining than the first hour and a half good to see this movie . the story was about two of them . the story was good , a great idea and good acting , and a lot more of a more entertaining than the first hour and a half\n",
            "\n",
            "Epoch 00007: saving model to wandb/run-20201105_182056-rwkad0fw/files/gpt_language_model_checkpoint7\n",
            "1563/1563 [==============================] - 149s 95ms/step - loss: 3.8925 - GPT_Output_loss: 3.8925\n",
            "Epoch 8/30\n",
            "1563/1563 [==============================] - ETA: 0s - loss: 3.8322 - GPT_Output_loss: 3.8322\n",
            "Sample Generate Text: the actor was not a great fan of [UNK] . i have read this book , but i can 't say it was good . there is a movie that i liked this movie , but the movie was a great movie with an not a great fan of [UNK] . i have read this book , but i can 't say it was good . there is a movie that i liked this movie , but the movie was a great movie with an\n",
            "\n",
            "Epoch 00008: saving model to wandb/run-20201105_182056-rwkad0fw/files/gpt_language_model_checkpoint8\n",
            "1563/1563 [==============================] - 150s 96ms/step - loss: 3.8322 - GPT_Output_loss: 3.8322\n",
            "Epoch 9/30\n",
            "1563/1563 [==============================] - ETA: 0s - loss: 3.7795 - GPT_Output_loss: 3.7795\n",
            "Sample Generate Text: the actor was superb , and i was very impressed with how to see this film ? what i have had to say - - - - - - - - - - - - - - - - - - and - - superb , and i was very impressed with how to see this film ? what i have had to say - - - - - - - - - - - - - - - - - - and - -\n",
            "\n",
            "Epoch 00009: saving model to wandb/run-20201105_182056-rwkad0fw/files/gpt_language_model_checkpoint9\n",
            "1563/1563 [==============================] - 150s 96ms/step - loss: 3.7795 - GPT_Output_loss: 3.7795\n",
            "Epoch 10/30\n",
            "1563/1563 [==============================] - ETA: 0s - loss: 3.7325 - GPT_Output_loss: 3.7325\n",
            "Sample Generate Text: the actor was great . the best of you 've seen in the first film . it 's a good comedy but the script had a good pace and the story was a little too long but the story wasn 't great .  great . the best of you 've seen in the first film . it 's a good comedy but the script had a good pace and the story was a little too long but the story wasn 't great . \n",
            "\n",
            "Epoch 00010: saving model to wandb/run-20201105_182056-rwkad0fw/files/gpt_language_model_checkpoint10\n",
            "1563/1563 [==============================] - 149s 96ms/step - loss: 3.7325 - GPT_Output_loss: 3.7325\n",
            "Epoch 11/30\n",
            "1563/1563 [==============================] - ETA: 0s - loss: 3.6907 - GPT_Output_loss: 3.6907\n",
            "Sample Generate Text: the actor was very interesting in it was very good , and the actors were good . they didn 't have to do it . it was not only a few people who liked this movie . also , the music was very cool very interesting in it was very good , and the actors were good . they didn 't have to do it . it was not only a few people who liked this movie . also , the music was very cool\n",
            "\n",
            "Epoch 00011: saving model to wandb/run-20201105_182056-rwkad0fw/files/gpt_language_model_checkpoint11\n",
            "1563/1563 [==============================] - 150s 96ms/step - loss: 3.6907 - GPT_Output_loss: 3.6907\n",
            "Epoch 12/30\n",
            "1563/1563 [==============================] - ETA: 0s - loss: 3.6540 - GPT_Output_loss: 3.6540\n",
            "Sample Generate Text: the actor was a good director . but the script didn 't flow so much as the movie progressed . i realized that it was a bit more than the plot ? i thought that the story was good , not much more and a good director . but the script didn 't flow so much as the movie progressed . i realized that it was a bit more than the plot ? i thought that the story was good , not much more and\n",
            "\n",
            "Epoch 00012: saving model to wandb/run-20201105_182056-rwkad0fw/files/gpt_language_model_checkpoint12\n",
            "1563/1563 [==============================] - 150s 96ms/step - loss: 3.6540 - GPT_Output_loss: 3.6540\n",
            "Epoch 13/30\n",
            "1563/1563 [==============================] - ETA: 0s - loss: 3.6200 - GPT_Output_loss: 3.6200\n",
            "Sample Generate Text: the actor was a great actor and the actors . i have not seen him in this film but not really great , as i was impressed . the film is a complete film , i really can identify with the characters . and a great actor and the actors . i have not seen him in this film but not really great , as i was impressed . the film is a complete film , i really can identify with the characters . and\n",
            "\n",
            "Epoch 00013: saving model to wandb/run-20201105_182056-rwkad0fw/files/gpt_language_model_checkpoint13\n",
            "1563/1563 [==============================] - 149s 96ms/step - loss: 3.6200 - GPT_Output_loss: 3.6200\n",
            "Epoch 14/30\n",
            "1563/1563 [==============================] - ETA: 0s - loss: 3.5894 - GPT_Output_loss: 3.5894\n",
            "Sample Generate Text: the actor was one of the worst movies i 've ever seen - the movie has a [UNK] in this movie . it is not a bad movie , i can only assume that this movie is bad .      one of the worst movies i 've ever seen - the movie has a [UNK] in this movie . it is not a bad movie , i can only assume that this movie is bad .     \n",
            "\n",
            "Epoch 00014: saving model to wandb/run-20201105_182056-rwkad0fw/files/gpt_language_model_checkpoint14\n",
            "1563/1563 [==============================] - 149s 95ms/step - loss: 3.5894 - GPT_Output_loss: 3.5894\n",
            "Epoch 15/30\n",
            "1563/1563 [==============================] - ETA: 0s - loss: 3.5608 - GPT_Output_loss: 3.5608\n",
            "Sample Generate Text: the actor was a great actor , and he was very well chosen , but in his role he was very well . the movie he played the role of a man . he was a good actor , he was a great actor a great actor , and he was very well chosen , but in his role he was very well . the movie he played the role of a man . he was a good actor , he was a great actor\n",
            "\n",
            "Epoch 00015: saving model to wandb/run-20201105_182056-rwkad0fw/files/gpt_language_model_checkpoint15\n",
            "1563/1563 [==============================] - 149s 95ms/step - loss: 3.5608 - GPT_Output_loss: 3.5608\n",
            "Epoch 16/30\n",
            "1563/1563 [==============================] - ETA: 0s - loss: 3.5349 - GPT_Output_loss: 3.5349\n",
            "Sample Generate Text: the actor was a good job but i felt compelled to warn off a strait of my own movie . this is a pretty good movie . it 's a very funny movie and a lot of people who think it was the worst a good job but i felt compelled to warn off a strait of my own movie . this is a pretty good movie . it 's a very funny movie and a lot of people who think it was the worst\n",
            "\n",
            "Epoch 00016: saving model to wandb/run-20201105_182056-rwkad0fw/files/gpt_language_model_checkpoint16\n",
            "1563/1563 [==============================] - 148s 95ms/step - loss: 3.5349 - GPT_Output_loss: 3.5349\n",
            "Epoch 17/30\n",
            "1563/1563 [==============================] - ETA: 0s - loss: 3.5109 - GPT_Output_loss: 3.5109\n",
            "Sample Generate Text: the actor was a good actor , and it was a great comedian . he was in his first feature . he was great , but he did a good job as he did the first act of the first part of his character a good actor , and it was a great comedian . he was in his first feature . he was great , but he did a good job as he did the first act of the first part of his character\n",
            "\n",
            "Epoch 00017: saving model to wandb/run-20201105_182056-rwkad0fw/files/gpt_language_model_checkpoint17\n",
            "1563/1563 [==============================] - 149s 95ms/step - loss: 3.5109 - GPT_Output_loss: 3.5109\n",
            "Epoch 18/30\n",
            "1563/1563 [==============================] - ETA: 0s - loss: 3.4882 - GPT_Output_loss: 3.4882\n",
            "Sample Generate Text: the actor was not the biggest pleasure of attending this film festival . i was in the theater , which i thought was the best part of the whole movie . i was disappointed and i was waiting for a whole family , the not the biggest pleasure of attending this film festival . i was in the theater , which i thought was the best part of the whole movie . i was disappointed and i was waiting for a whole family , the\n",
            "\n",
            "Epoch 00018: saving model to wandb/run-20201105_182056-rwkad0fw/files/gpt_language_model_checkpoint18\n",
            "1563/1563 [==============================] - 149s 95ms/step - loss: 3.4882 - GPT_Output_loss: 3.4882\n",
            "Epoch 19/30\n",
            "1563/1563 [==============================] - ETA: 0s - loss: 3.4677 - GPT_Output_loss: 3.4677\n",
            "Sample Generate Text: the actor was a fantastic performance by john travolta and the great billy , he was great , a man who has never seen this movie and i am sure the actor playing the main character in this movie . . . .i think a fantastic performance by john travolta and the great billy , he was great , a man who has never seen this movie and i am sure the actor playing the main character in this movie . . . .i think\n",
            "\n",
            "Epoch 00019: saving model to wandb/run-20201105_182056-rwkad0fw/files/gpt_language_model_checkpoint19\n",
            "1563/1563 [==============================] - 149s 95ms/step - loss: 3.4677 - GPT_Output_loss: 3.4677\n",
            "Epoch 20/30\n",
            "1563/1563 [==============================] - ETA: 0s - loss: 3.4478 - GPT_Output_loss: 3.4478\n",
            "Sample Generate Text: the actor was great . i 'm not one of the worst movies i 've ever seen ! i have seen worse movies in the past 2 -3 times . this movie has no one or two or three of them is one of great . i 'm not one of the worst movies i 've ever seen ! i have seen worse movies in the past 2 -3 times . this movie has no one or two or three of them is one of\n",
            "\n",
            "Epoch 00020: saving model to wandb/run-20201105_182056-rwkad0fw/files/gpt_language_model_checkpoint20\n",
            "1563/1563 [==============================] - 149s 95ms/step - loss: 3.4478 - GPT_Output_loss: 3.4478\n",
            "Epoch 21/30\n",
            "1563/1563 [==============================] - ETA: 0s - loss: 3.4301 - GPT_Output_loss: 3.4301\n",
            "Sample Generate Text: the actor was a very enjoyable film by vincent price , so it didn 't work at all - - i am a huge fan of the first one . i thought the film was a disappointment and the music was great . i a very enjoyable film by vincent price , so it didn 't work at all - - i am a huge fan of the first one . i thought the film was a disappointment and the music was great . i\n",
            "\n",
            "Epoch 00021: saving model to wandb/run-20201105_182056-rwkad0fw/files/gpt_language_model_checkpoint21\n",
            "1563/1563 [==============================] - 149s 96ms/step - loss: 3.4301 - GPT_Output_loss: 3.4301\n",
            "Epoch 22/30\n",
            "1563/1563 [==============================] - ETA: 0s - loss: 3.4127 - GPT_Output_loss: 3.4127\n",
            "Sample Generate Text: the actor was not quite as good as the movie is , it 's just a great movie , but it doesn 't really deliver . i 've been waiting it to come out to be the best of this movie . but this not quite as good as the movie is , it 's just a great movie , but it doesn 't really deliver . i 've been waiting it to come out to be the best of this movie . but this\n",
            "\n",
            "Epoch 00022: saving model to wandb/run-20201105_182056-rwkad0fw/files/gpt_language_model_checkpoint22\n",
            "1563/1563 [==============================] - 148s 95ms/step - loss: 3.4127 - GPT_Output_loss: 3.4127\n",
            "Epoch 23/30\n",
            "1563/1563 [==============================] - ETA: 0s - loss: 3.3966 - GPT_Output_loss: 3.3966\n",
            "Sample Generate Text: the actor was not a movie about this is the worst movie i have seen in my life . i was so annoyed that i could get to see it . the only reason that this movie is a masterpiece and it was made not a movie about this is the worst movie i have seen in my life . i was so annoyed that i could get to see it . the only reason that this movie is a masterpiece and it was made\n",
            "\n",
            "Epoch 00023: saving model to wandb/run-20201105_182056-rwkad0fw/files/gpt_language_model_checkpoint23\n",
            "1563/1563 [==============================] - 149s 95ms/step - loss: 3.3966 - GPT_Output_loss: 3.3966\n",
            "Epoch 24/30\n",
            "1563/1563 [==============================] - ETA: 0s - loss: 3.3818 - GPT_Output_loss: 3.3818\n",
            "Sample Generate Text: the actor was not a big plus to the point that they are the most of the characters in this movie was all predictable and poorly directed . the acting was excellent . the only problem is that i could be a very talented not a big plus to the point that they are the most of the characters in this movie was all predictable and poorly directed . the acting was excellent . the only problem is that i could be a very talented\n",
            "\n",
            "Epoch 00024: saving model to wandb/run-20201105_182056-rwkad0fw/files/gpt_language_model_checkpoint24\n",
            "1563/1563 [==============================] - 148s 95ms/step - loss: 3.3818 - GPT_Output_loss: 3.3818\n",
            "Epoch 25/30\n",
            "1563/1563 [==============================] - ETA: 0s - loss: 3.3671 - GPT_Output_loss: 3.3671\n",
            "Sample Generate Text: the actor was a very poor attempt to [UNK] [UNK] [UNK] [UNK] . the film 's premise is quite obvious but there wasn 't even a few scenes that i can see the movie . this film 's title is very interesting . i a very poor attempt to [UNK] [UNK] [UNK] [UNK] . the film 's premise is quite obvious but there wasn 't even a few scenes that i can see the movie . this film 's title is very interesting . i\n",
            "\n",
            "Epoch 00025: saving model to wandb/run-20201105_182056-rwkad0fw/files/gpt_language_model_checkpoint25\n",
            "1563/1563 [==============================] - 149s 95ms/step - loss: 3.3671 - GPT_Output_loss: 3.3671\n",
            "Epoch 26/30\n",
            "1563/1563 [==============================] - ETA: 0s - loss: 3.3533 - GPT_Output_loss: 3.3533\n",
            "Sample Generate Text: the actor was a great comedian in this movie . the story was a little predictable . i have not seen a lot of it but i didn 't think it was a funny movie . i think it was just plain funny to a great comedian in this movie . the story was a little predictable . i have not seen a lot of it but i didn 't think it was a funny movie . i think it was just plain funny to\n",
            "\n",
            "Epoch 00026: saving model to wandb/run-20201105_182056-rwkad0fw/files/gpt_language_model_checkpoint26\n",
            "1563/1563 [==============================] - 149s 96ms/step - loss: 3.3533 - GPT_Output_loss: 3.3533\n",
            "Epoch 27/30\n",
            "1563/1563 [==============================] - ETA: 0s - loss: 3.3406 - GPT_Output_loss: 3.3406\n",
            "Sample Generate Text: the actor was one of the best movies i 've seen . but i was very impressed that i really enjoyed the film by this film and it was definitely for the most part . the plot was very very well done , which one of the best movies i 've seen . but i was very impressed that i really enjoyed the film by this film and it was definitely for the most part . the plot was very very well done , which\n",
            "\n",
            "Epoch 00027: saving model to wandb/run-20201105_182056-rwkad0fw/files/gpt_language_model_checkpoint27\n",
            "1563/1563 [==============================] - 150s 96ms/step - loss: 3.3406 - GPT_Output_loss: 3.3406\n",
            "Epoch 28/30\n",
            "1563/1563 [==============================] - ETA: 0s - loss: 3.3279 - GPT_Output_loss: 3.3279\n",
            "Sample Generate Text: the actor was a wonderful actress with such a strong cast , who was in love with the role of a [UNK] , [UNK] , who was one of the most talented actors of all time and actresses , and dancers . the actors a wonderful actress with such a strong cast , who was in love with the role of a [UNK] , [UNK] , who was one of the most talented actors of all time and actresses , and dancers . the actors\n",
            "\n",
            "Epoch 00028: saving model to wandb/run-20201105_182056-rwkad0fw/files/gpt_language_model_checkpoint28\n",
            "1563/1563 [==============================] - 150s 96ms/step - loss: 3.3279 - GPT_Output_loss: 3.3279\n",
            "Epoch 29/30\n",
            "1563/1563 [==============================] - ETA: 0s - loss: 3.3161 - GPT_Output_loss: 3.3161\n",
            "Sample Generate Text: the actor was a [UNK] \" . it was a great story , it was not the best movie i ever saw it . my father was on a [UNK] . i really loved it so much and i was really surprised to see a [UNK] \" . it was a great story , it was not the best movie i ever saw it . my father was on a [UNK] . i really loved it so much and i was really surprised to see\n",
            "\n",
            "Epoch 00029: saving model to wandb/run-20201105_182056-rwkad0fw/files/gpt_language_model_checkpoint29\n",
            "1563/1563 [==============================] - 149s 95ms/step - loss: 3.3161 - GPT_Output_loss: 3.3161\n",
            "Epoch 30/30\n",
            "1563/1563 [==============================] - ETA: 0s - loss: 3.3048 - GPT_Output_loss: 3.3048\n",
            "Sample Generate Text: the actor was a good actor . i liked him and he played his role , especially when he made this movie was a good job directing . it was very funny . the actors didn 't have much success . he was funny a good actor . i liked him and he played his role , especially when he made this movie was a good job directing . it was very funny . the actors didn 't have much success . he was funny\n",
            "\n",
            "Epoch 00030: saving model to wandb/run-20201105_182056-rwkad0fw/files/gpt_language_model_checkpoint30\n",
            "1563/1563 [==============================] - 150s 96ms/step - loss: 3.3048 - GPT_Output_loss: 3.3048\n"
          ],
          "name": "stdout"
        },
        {
          "output_type": "execute_result",
          "data": {
            "text/plain": [
              "<tensorflow.python.keras.callbacks.History at 0x7f00317d0748>"
            ]
          },
          "metadata": {
            "tags": []
          },
          "execution_count": 6
        }
      ]
    },
    {
      "cell_type": "code",
      "metadata": {
        "id": "vF8CUCxiD3ie",
        "outputId": "d122c93e-0bda-49e8-dc6e-0810707925de",
        "colab": {
          "base_uri": "https://localhost:8080/"
        }
      },
      "source": [
        "start_text = 'the movie is'\n",
        "start_tokens = experiment.tokenize(start_text=start_text)\n",
        "output = experiment.infer(\n",
        "    start_tokens, max_length=100, max_tokens=40, top_k=10\n",
        ")\n",
        "print('Generated Text:', output)"
      ],
      "execution_count": 7,
      "outputs": [
        {
          "output_type": "stream",
          "text": [
            "Generated Text: the movie is an entertaining movie ! one of the acting is superb . this movie is amazing to look like an oscar nominee for a year award . he is an intelligent and talented actors . . . . . .i think i an entertaining movie ! one of the acting is superb . this movie is amazing to look like an oscar nominee for a year award . he is an intelligent and talented actors . . . . . .i think i\n"
          ],
          "name": "stdout"
        }
      ]
    },
    {
      "cell_type": "code",
      "metadata": {
        "id": "9mB4kYkuo1hm"
      },
      "source": [
        ""
      ],
      "execution_count": null,
      "outputs": []
    }
  ]
}