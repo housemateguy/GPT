{
  "nbformat": 4,
  "nbformat_minor": 0,
  "metadata": {
    "colab": {
      "name": "GPT Language Model Demo.ipynb",
      "provenance": [],
      "collapsed_sections": []
    },
    "kernelspec": {
      "name": "python3",
      "display_name": "Python 3"
    },
    "accelerator": "GPU"
  },
  "cells": [
    {
      "cell_type": "code",
      "metadata": {
        "id": "RSO7x7TmmpN4",
        "outputId": "9731c2f7-3674-45ee-d530-0d8583965e72",
        "colab": {
          "base_uri": "https://localhost:8080/"
        }
      },
      "source": [
        "!nvidia-smi"
      ],
      "execution_count": 1,
      "outputs": [
        {
          "output_type": "stream",
          "text": [
            "Mon Nov  2 08:24:12 2020       \n",
            "+-----------------------------------------------------------------------------+\n",
            "| NVIDIA-SMI 455.32.00    Driver Version: 418.67       CUDA Version: 10.1     |\n",
            "|-------------------------------+----------------------+----------------------+\n",
            "| GPU  Name        Persistence-M| Bus-Id        Disp.A | Volatile Uncorr. ECC |\n",
            "| Fan  Temp  Perf  Pwr:Usage/Cap|         Memory-Usage | GPU-Util  Compute M. |\n",
            "|                               |                      |               MIG M. |\n",
            "|===============================+======================+======================|\n",
            "|   0  Tesla T4            Off  | 00000000:00:04.0 Off |                    0 |\n",
            "| N/A   64C    P8    11W /  70W |      0MiB / 15079MiB |      0%      Default |\n",
            "|                               |                      |                 ERR! |\n",
            "+-------------------------------+----------------------+----------------------+\n",
            "                                                                               \n",
            "+-----------------------------------------------------------------------------+\n",
            "| Processes:                                                                  |\n",
            "|  GPU   GI   CI        PID   Type   Process name                  GPU Memory |\n",
            "|        ID   ID                                                   Usage      |\n",
            "|=============================================================================|\n",
            "|  No running processes found                                                 |\n",
            "+-----------------------------------------------------------------------------+\n"
          ],
          "name": "stdout"
        }
      ]
    },
    {
      "cell_type": "code",
      "metadata": {
        "id": "vT-Ac6DdmeZa",
        "outputId": "78da867a-7011-40ef-9461-e17ca0b4ca00",
        "colab": {
          "base_uri": "https://localhost:8080/"
        }
      },
      "source": [
        "!git clone https://github.com/lattice-ai/GPT\n",
        "%cd GPT"
      ],
      "execution_count": 2,
      "outputs": [
        {
          "output_type": "stream",
          "text": [
            "Cloning into 'GPT'...\n",
            "remote: Enumerating objects: 141, done.\u001b[K\n",
            "remote: Counting objects: 100% (141/141), done.\u001b[K\n",
            "remote: Compressing objects: 100% (106/106), done.\u001b[K\n",
            "remote: Total 141 (delta 54), reused 116 (delta 29), pack-reused 0\u001b[K\n",
            "Receiving objects: 100% (141/141), 16.78 KiB | 5.59 MiB/s, done.\n",
            "Resolving deltas: 100% (54/54), done.\n",
            "/content/GPT\n"
          ],
          "name": "stdout"
        }
      ]
    },
    {
      "cell_type": "code",
      "metadata": {
        "id": "BU8AkAKXmvPd"
      },
      "source": [
        "from gpt.experiments.language_model import IMDBReviewLanguageExperiment\n",
        "\n",
        "experiment = IMDBReviewLanguageExperiment()"
      ],
      "execution_count": 3,
      "outputs": []
    },
    {
      "cell_type": "code",
      "metadata": {
        "id": "8htcxsbOm1XO",
        "outputId": "d980efee-521b-4dac-cee2-c973c422ee24",
        "colab": {
          "base_uri": "https://localhost:8080/"
        }
      },
      "source": [
        "experiment.build_dataset('https://ai.stanford.edu/~amaas/data/sentiment/aclImdb_v1.tar.gz')\n",
        "experiment.compile()"
      ],
      "execution_count": 4,
      "outputs": [
        {
          "output_type": "stream",
          "text": [
            "Downloading data from https://ai.stanford.edu/~amaas/data/sentiment/aclImdb_v1.tar.gz\n",
            "84131840/84125825 [==============================] - 5s 0us/step\n",
            "Dataset Size: 50000 files\n",
            "Dataset: <PrefetchDataset shapes: ((None, 100), (None, 100)), types: (tf.int64, tf.int64)>\n"
          ],
          "name": "stdout"
        }
      ]
    },
    {
      "cell_type": "code",
      "metadata": {
        "id": "EWo7l9uam4cq",
        "outputId": "713a81d6-b225-4945-d4e3-2df07a49ee9d",
        "colab": {
          "base_uri": "https://localhost:8080/"
        }
      },
      "source": [
        "start_text = 'the actor was'\n",
        "start_tokens = experiment.tokenize(start_text=start_text)\n",
        "experiment.train(\n",
        "    epochs=30, start_tokens=start_tokens,\n",
        "    max_length=100, max_tokens=40, top_k=10, infer_every=1\n",
        ")"
      ],
      "execution_count": 5,
      "outputs": [
        {
          "output_type": "stream",
          "text": [
            "Epoch 1/30\n",
            "   1563/Unknown - 145s 93ms/step - loss: 5.0529 - dense_6_loss: 5.0529Sample Generate Text: the actor was this movie . this has been a great cast of the film , which makes a good cast as a [UNK] . the [UNK] is [UNK] , and i think that it 's pretty much of the film is that it this movie . this has been a great cast of the film , which makes a good cast as a [UNK] . the [UNK] is [UNK] , and i think that it 's pretty much of the film is that it\n",
            "1563/1563 [==============================] - 147s 94ms/step - loss: 5.0529 - dense_6_loss: 5.0529\n",
            "Epoch 2/30\n",
            "1563/1563 [==============================] - ETA: 0s - loss: 4.4789 - dense_6_loss: 4.4789Sample Generate Text: the actor was great and great actors . . . the cast was great . i was wrong ? i was pleasantly surprised . it was also very witty and a great movie . it was well done by the great [UNK] of it great and great actors . . . the cast was great . i was wrong ? i was pleasantly surprised . it was also very witty and a great movie . it was well done by the great [UNK] of it\n",
            "1563/1563 [==============================] - 148s 95ms/step - loss: 4.4789 - dense_6_loss: 4.4789\n",
            "Epoch 3/30\n",
            "1563/1563 [==============================] - ETA: 0s - loss: 4.2829 - dense_6_loss: 4.2829Sample Generate Text: the actor was very convincing , the script was great , and the only thing that made me feel good for this film was the fact that this was an entertaining movie was a [UNK] . the plot of an actor and the acting very convincing , the script was great , and the only thing that made me feel good for this film was the fact that this was an entertaining movie was a [UNK] . the plot of an actor and the acting\n",
            "1563/1563 [==============================] - 147s 94ms/step - loss: 4.2829 - dense_6_loss: 4.2829\n",
            "Epoch 4/30\n",
            "1563/1563 [==============================] - ETA: 0s - loss: 4.1500 - dense_6_loss: 4.1500Sample Generate Text: the actor was a big [UNK] [UNK] [UNK] [UNK] . the only reason why was this movie . it was because it made on tv , was one of the greatest movies ever made . the movie shows how they are ? well , a big [UNK] [UNK] [UNK] [UNK] . the only reason why was this movie . it was because it made on tv , was one of the greatest movies ever made . the movie shows how they are ? well ,\n",
            "1563/1563 [==============================] - 144s 92ms/step - loss: 4.1500 - dense_6_loss: 4.1500\n",
            "Epoch 5/30\n",
            "1563/1563 [==============================] - ETA: 0s - loss: 4.0481 - dense_6_loss: 4.0481Sample Generate Text: the actor was excellent , as a big fan of the [UNK] and the [UNK] ' . i 'm very excited . it is great to see this movie again . . . . . . . this movie is not just that bad excellent , as a big fan of the [UNK] and the [UNK] ' . i 'm very excited . it is great to see this movie again . . . . . . . this movie is not just that bad\n",
            "1563/1563 [==============================] - 142s 91ms/step - loss: 4.0481 - dense_6_loss: 4.0481\n",
            "Epoch 6/30\n",
            "1563/1563 [==============================] - ETA: 0s - loss: 3.9646 - dense_6_loss: 3.9646Sample Generate Text: the actor was a very funny movie . the plot is a lot different . the movie is great . the plot is simple , but it is just not funny . . . the movie is not just the story of a character a very funny movie . the plot is a lot different . the movie is great . the plot is simple , but it is just not funny . . . the movie is not just the story of a character\n",
            "1563/1563 [==============================] - 143s 92ms/step - loss: 3.9646 - dense_6_loss: 3.9646\n",
            "Epoch 7/30\n",
            "1563/1563 [==============================] - ETA: 0s - loss: 3.8948 - dense_6_loss: 3.8948Sample Generate Text: the actor was very good . i thought this was a good guy . there was some nice shots and a few shots were very good . the only person who played a part , i would have liked the idea of a good very good . i thought this was a good guy . there was some nice shots and a few shots were very good . the only person who played a part , i would have liked the idea of a good\n",
            "1563/1563 [==============================] - 145s 93ms/step - loss: 3.8948 - dense_6_loss: 3.8948\n",
            "Epoch 8/30\n",
            "1563/1563 [==============================] - ETA: 0s - loss: 3.8340 - dense_6_loss: 3.8340Sample Generate Text: the actor was good but he is the most annoying voice actor . he 's not the [UNK] \" was a great idea to do the movie [UNK] \" [UNK] [UNK] and [UNK] was good and i had a lot of the accent and good but he is the most annoying voice actor . he 's not the [UNK] \" was a great idea to do the movie [UNK] \" [UNK] [UNK] and [UNK] was good and i had a lot of the accent and\n",
            "1563/1563 [==============================] - 144s 92ms/step - loss: 3.8340 - dense_6_loss: 3.8340\n",
            "Epoch 9/30\n",
            "1563/1563 [==============================] - ETA: 0s - loss: 3.7816 - dense_6_loss: 3.7816Sample Generate Text: the actor was a bit like a good , but i thought it was funny and it seemed to be the main character was a bit too long . i also watched this because it had a lot to do with the other part a bit like a good , but i thought it was funny and it seemed to be the main character was a bit too long . i also watched this because it had a lot to do with the other part\n",
            "1563/1563 [==============================] - 143s 92ms/step - loss: 3.7816 - dense_6_loss: 3.7816\n",
            "Epoch 10/30\n",
            "1563/1563 [==============================] - ETA: 0s - loss: 3.7352 - dense_6_loss: 3.7352Sample Generate Text: the actor was brilliant ! i saw a lot of other reviews for this and it was a film about an aging baby who 's had no [UNK] . i don 't have to say anything . i was disappointed by it . this brilliant ! i saw a lot of other reviews for this and it was a film about an aging baby who 's had no [UNK] . i don 't have to say anything . i was disappointed by it . this\n",
            "1563/1563 [==============================] - 143s 91ms/step - loss: 3.7352 - dense_6_loss: 3.7352\n",
            "Epoch 11/30\n",
            "1563/1563 [==============================] - ETA: 0s - loss: 3.6934 - dense_6_loss: 3.6934Sample Generate Text: the actor was not the only thing about this film was that i didn 't like it . i saw the movie was so bad in the theater . . i loved it was very different and was a [UNK] and i was looking not the only thing about this film was that i didn 't like it . i saw the movie was so bad in the theater . . i loved it was very different and was a [UNK] and i was looking\n",
            "1563/1563 [==============================] - 143s 91ms/step - loss: 3.6934 - dense_6_loss: 3.6934\n",
            "Epoch 12/30\n",
            "1563/1563 [==============================] - ETA: 0s - loss: 3.6563 - dense_6_loss: 3.6563Sample Generate Text: the actor was pretty good . this movie was bad and i have to give it a chance to see it in the first place . it was just plain bad . the acting , direction , plot , bad acting and direction . pretty good . this movie was bad and i have to give it a chance to see it in the first place . it was just plain bad . the acting , direction , plot , bad acting and direction .\n",
            "1563/1563 [==============================] - 142s 91ms/step - loss: 3.6563 - dense_6_loss: 3.6563\n",
            "Epoch 13/30\n",
            "1563/1563 [==============================] - ETA: 0s - loss: 3.6218 - dense_6_loss: 3.6218Sample Generate Text: the actor was very bad actor . his role was awful in this role in . . . i can 't believe that someone should be paid [UNK] for money and make you laugh . it 's not just too much at all . very bad actor . his role was awful in this role in . . . i can 't believe that someone should be paid [UNK] for money and make you laugh . it 's not just too much at all .\n",
            "1563/1563 [==============================] - 142s 91ms/step - loss: 3.6218 - dense_6_loss: 3.6218\n",
            "Epoch 14/30\n",
            "1563/1563 [==============================] - ETA: 0s - loss: 3.5912 - dense_6_loss: 3.5912Sample Generate Text: the actor was great . i loved the music . the acting is great . i have seen better times to the [UNK] and the whole thing just keeps going for the movie . i have watched the movie i was looking forward to great . i loved the music . the acting is great . i have seen better times to the [UNK] and the whole thing just keeps going for the movie . i have watched the movie i was looking forward to\n",
            "1563/1563 [==============================] - 142s 91ms/step - loss: 3.5912 - dense_6_loss: 3.5912\n",
            "Epoch 15/30\n",
            "1563/1563 [==============================] - ETA: 0s - loss: 3.5629 - dense_6_loss: 3.5629Sample Generate Text: the actor was a wonderful actor but i really feel as if it weren 't sickeningly bad , it 's a shame that he was made in a [UNK] \" bette davis films as [UNK] as [UNK] , it was the most important thing a wonderful actor but i really feel as if it weren 't sickeningly bad , it 's a shame that he was made in a [UNK] \" bette davis films as [UNK] as [UNK] , it was the most important thing\n",
            "1563/1563 [==============================] - 143s 91ms/step - loss: 3.5629 - dense_6_loss: 3.5629\n",
            "Epoch 16/30\n",
            "1563/1563 [==============================] - ETA: 0s - loss: 3.5366 - dense_6_loss: 3.5366Sample Generate Text: the actor was a good actress in this film . it was so good to see how this film was . i can 't believe there was a lot of talent for this film . there were a lot of scenes where the actors a good actress in this film . it was so good to see how this film was . i can 't believe there was a lot of talent for this film . there were a lot of scenes where the actors\n",
            "1563/1563 [==============================] - 142s 91ms/step - loss: 3.5366 - dense_6_loss: 3.5366\n",
            "Epoch 17/30\n",
            "1563/1563 [==============================] - ETA: 0s - loss: 3.5123 - dense_6_loss: 3.5123Sample Generate Text: the actor was great . . . .but the story starts off a good pace and the acting of the movie is a great story , and the actors are great . the story is great and the direction is excellent , especially the great . . . .but the story starts off a good pace and the acting of the movie is a great story , and the actors are great . the story is great and the direction is excellent , especially the\n",
            "1563/1563 [==============================] - 143s 91ms/step - loss: 3.5123 - dense_6_loss: 3.5123\n",
            "Epoch 18/30\n",
            "1563/1563 [==============================] - ETA: 0s - loss: 3.4904 - dense_6_loss: 3.4904Sample Generate Text: the actor was the only thing that really bothered me was the only thing that was the point . the script was that the only [UNK] was the last half hour i was looking for the money [UNK] was the only person to get the only thing that really bothered me was the only thing that was the point . the script was that the only [UNK] was the last half hour i was looking for the money [UNK] was the only person to get\n",
            "1563/1563 [==============================] - 142s 91ms/step - loss: 3.4904 - dense_6_loss: 3.4904\n",
            "Epoch 19/30\n",
            "1563/1563 [==============================] - ETA: 0s - loss: 3.4689 - dense_6_loss: 3.4689Sample Generate Text: the actor was good for this movie . . . . it was not funny and i liked it . it was a little more then the movie . i watched it . the acting was pretty cool and the main character is an good for this movie . . . . it was not funny and i liked it . it was a little more then the movie . i watched it . the acting was pretty cool and the main character is an\n",
            "1563/1563 [==============================] - 142s 91ms/step - loss: 3.4689 - dense_6_loss: 3.4689\n",
            "Epoch 20/30\n",
            "1563/1563 [==============================] - ETA: 0s - loss: 3.4497 - dense_6_loss: 3.4497Sample Generate Text: the actor was pretty awful , not even a bad , but i was surprised that i enjoyed watching how bad this was made . the movie was pretty bad . . . . .well , it was a little confusing , but this pretty awful , not even a bad , but i was surprised that i enjoyed watching how bad this was made . the movie was pretty bad . . . . .well , it was a little confusing , but this\n",
            "1563/1563 [==============================] - 142s 91ms/step - loss: 3.4497 - dense_6_loss: 3.4497\n",
            "Epoch 21/30\n",
            "1563/1563 [==============================] - ETA: 0s - loss: 3.4312 - dense_6_loss: 3.4312Sample Generate Text: the actor was great but this movie was very great . if you were looking at the [UNK] ' for yourself . the acting was superb , especially when a child , i was looking forward to watching the movie . i found the great but this movie was very great . if you were looking at the [UNK] ' for yourself . the acting was superb , especially when a child , i was looking forward to watching the movie . i found the\n",
            "1563/1563 [==============================] - 142s 91ms/step - loss: 3.4312 - dense_6_loss: 3.4312\n",
            "Epoch 22/30\n",
            "1563/1563 [==============================] - ETA: 0s - loss: 3.4142 - dense_6_loss: 3.4142Sample Generate Text: the actor was a very bad actor but he had the opportunity to play in a magnificently , as an actor . . he has a lot of his lines . . .my personal opinion , the difference is that this is one of a very bad actor but he had the opportunity to play in a magnificently , as an actor . . he has a lot of his lines . . .my personal opinion , the difference is that this is one of\n",
            "1563/1563 [==============================] - 143s 91ms/step - loss: 3.4142 - dense_6_loss: 3.4142\n",
            "Epoch 23/30\n",
            "1563/1563 [==============================] - ETA: 0s - loss: 3.3978 - dense_6_loss: 3.3978Sample Generate Text: the actor was great , but not much a movie , i was disappointed . the movie was too good , the directing . the story was about a man in the movie . . . it was so slow , the movie is great , but not much a movie , i was disappointed . the movie was too good , the directing . the story was about a man in the movie . . . it was so slow , the movie is\n",
            "1563/1563 [==============================] - 143s 91ms/step - loss: 3.3978 - dense_6_loss: 3.3978\n",
            "Epoch 24/30\n",
            "1563/1563 [==============================] - ETA: 0s - loss: 3.3827 - dense_6_loss: 3.3827Sample Generate Text: the actor was excellent . the story line is very good and i liked this movie . i was so glad that it was not only a film you could find it very hard to be to watch and enjoy it .   excellent . the story line is very good and i liked this movie . i was so glad that it was not only a film you could find it very hard to be to watch and enjoy it .  \n",
            "1563/1563 [==============================] - 143s 91ms/step - loss: 3.3827 - dense_6_loss: 3.3827\n",
            "Epoch 25/30\n",
            "1563/1563 [==============================] - ETA: 0s - loss: 3.3680 - dense_6_loss: 3.3680Sample Generate Text: the actor was great , but his talent was a fine actor , but i was glad he was not as [UNK] , i was pleasantly surprised . a good film at the beginning , it 's a bad movie . i found a great , but his talent was a fine actor , but i was glad he was not as [UNK] , i was pleasantly surprised . a good film at the beginning , it 's a bad movie . i found a\n",
            "1563/1563 [==============================] - 143s 91ms/step - loss: 3.3680 - dense_6_loss: 3.3680\n",
            "Epoch 26/30\n",
            "1563/1563 [==============================] - ETA: 0s - loss: 3.3545 - dense_6_loss: 3.3545Sample Generate Text: the actor was pretty cool , in baseketball involving a fourth movie , it 's a shame that the director and his best part of this film . he plays a part in the first half of the movie . i would have rated pretty cool , in baseketball involving a fourth movie , it 's a shame that the director and his best part of this film . he plays a part in the first half of the movie . i would have rated\n",
            "1563/1563 [==============================] - 143s 91ms/step - loss: 3.3545 - dense_6_loss: 3.3545\n",
            "Epoch 27/30\n",
            "1563/1563 [==============================] - ETA: 0s - loss: 3.3417 - dense_6_loss: 3.3417Sample Generate Text: the actor was great but i think that i 've seen all the movies . this was not a bad idea , but it 's still not bad . this movie was a bad movie , but this isn 't the worst movie ever great but i think that i 've seen all the movies . this was not a bad idea , but it 's still not bad . this movie was a bad movie , but this isn 't the worst movie ever\n",
            "1563/1563 [==============================] - 142s 91ms/step - loss: 3.3417 - dense_6_loss: 3.3417\n",
            "Epoch 28/30\n",
            "1563/1563 [==============================] - ETA: 0s - loss: 3.3293 - dense_6_loss: 3.3293Sample Generate Text: the actor was excellent , i was really disappointed in the movie . i found the movie very slow and the characters was very good . the actors were very good . the script was bad . i was wrong ! the plot wasn excellent , i was really disappointed in the movie . i found the movie very slow and the characters was very good . the actors were very good . the script was bad . i was wrong ! the plot wasn\n",
            "1563/1563 [==============================] - 143s 91ms/step - loss: 3.3293 - dense_6_loss: 3.3293\n",
            "Epoch 29/30\n",
            "1563/1563 [==============================] - ETA: 0s - loss: 3.3172 - dense_6_loss: 3.3172Sample Generate Text: the actor was very good actor and the plot was excellent but the script was great , and he was a great actor but not in [UNK] 's [UNK] .               very good actor and the plot was excellent but the script was great , and he was a great actor but not in [UNK] 's [UNK] .              \n",
            "1563/1563 [==============================] - 142s 91ms/step - loss: 3.3172 - dense_6_loss: 3.3172\n",
            "Epoch 30/30\n",
            "1563/1563 [==============================] - ETA: 0s - loss: 3.3067 - dense_6_loss: 3.3067Sample Generate Text: the actor was good . the best actor to play this role is one of the best performances of the actresses in this film are all that good . it is not good at all . it was great but it 's not worth good . the best actor to play this role is one of the best performances of the actresses in this film are all that good . it is not good at all . it was great but it 's not worth\n",
            "1563/1563 [==============================] - 142s 91ms/step - loss: 3.3067 - dense_6_loss: 3.3067\n"
          ],
          "name": "stdout"
        },
        {
          "output_type": "execute_result",
          "data": {
            "text/plain": [
              "<tensorflow.python.keras.callbacks.History at 0x7fc145c3d668>"
            ]
          },
          "metadata": {
            "tags": []
          },
          "execution_count": 5
        }
      ]
    },
    {
      "cell_type": "code",
      "metadata": {
        "id": "vF8CUCxiD3ie",
        "outputId": "e4149a08-a080-4aea-ae4d-5c7d8438b1e0",
        "colab": {
          "base_uri": "https://localhost:8080/"
        }
      },
      "source": [
        "start_text = 'the movie is'\n",
        "start_tokens = experiment.tokenize(start_text=start_text)\n",
        "output = experiment.infer(\n",
        "    start_tokens, max_length=100, max_tokens=40, top_k=10\n",
        ")\n",
        "print('Generated Text:', output)"
      ],
      "execution_count": 6,
      "outputs": [
        {
          "output_type": "stream",
          "text": [
            "Generated Text: the movie is a perfect example of the director and producer is not one of the most original movies i have seen . i 'm a big fan of movies , but this one i think he is an intelligent , creative talent to a perfect example of the director and producer is not one of the most original movies i have seen . i 'm a big fan of movies , but this one i think he is an intelligent , creative talent to\n"
          ],
          "name": "stdout"
        }
      ]
    },
    {
      "cell_type": "code",
      "metadata": {
        "id": "EJeWtJp-XKTL"
      },
      "source": [
        ""
      ],
      "execution_count": null,
      "outputs": []
    }
  ]
}